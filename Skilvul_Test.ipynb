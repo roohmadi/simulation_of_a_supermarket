{
 "cells": [
  {
   "cell_type": "code",
   "execution_count": 2,
   "metadata": {},
   "outputs": [
    {
     "name": "stdout",
     "output_type": "stream",
     "text": [
      " --------------------------------------------------------\n",
      "|                      SPECIAL OFFER                     |\n",
      " --------------------------------------------------------\n",
      "     item  harga\n",
      "0    susu  50000\n",
      "1  masker  25000\n",
      "\n",
      "1. Do you want of promotional items\n",
      "2. Do you want show all items are available\n"
     ]
    },
    {
     "name": "stdin",
     "output_type": "stream",
     "text": [
      "Please choose (1/2)? :  1\n"
     ]
    },
    {
     "name": "stdout",
     "output_type": "stream",
     "text": [
      "\n",
      "     item  harga\n",
      "0    susu  50000\n",
      "1  masker  25000\n",
      "\n"
     ]
    },
    {
     "name": "stdin",
     "output_type": "stream",
     "text": [
      "Please choose the item? :  susu\n",
      "Please choose the qty? :  2\n"
     ]
    },
    {
     "name": "stdout",
     "output_type": "stream",
     "text": [
      "50000\n",
      "Product found and the price of product  susu  is  50000\n",
      "\n",
      " --------------------------------------------------------\n",
      "|              Your purchased items                      |\n",
      " --------------------------------------------------------\n",
      "{'susu': 50000}\n",
      " --------------------------------------------------------\n",
      "Total price:  100000\n",
      "\n"
     ]
    },
    {
     "name": "stdin",
     "output_type": "stream",
     "text": [
      "More items (Y/N) :  y\n"
     ]
    },
    {
     "name": "stdout",
     "output_type": "stream",
     "text": [
      "\n",
      "     item  harga\n",
      "0    susu  50000\n",
      "1  masker  25000\n",
      "\n"
     ]
    },
    {
     "name": "stdin",
     "output_type": "stream",
     "text": [
      "Please choose the item? :  masker\n",
      "Please choose the qty? :  3\n"
     ]
    },
    {
     "name": "stdout",
     "output_type": "stream",
     "text": [
      "25000\n",
      "Product found and the price of product  masker  is  25000\n",
      "\n",
      " --------------------------------------------------------\n",
      "|              Your purchased items                      |\n",
      " --------------------------------------------------------\n",
      "{'susu': 50000, 'masker': 25000}\n",
      " --------------------------------------------------------\n",
      "Total price:  175000\n",
      "\n"
     ]
    },
    {
     "name": "stdin",
     "output_type": "stream",
     "text": [
      "More items (Y/N) :  n\n",
      "Want to finish (Y/N) :  n\n"
     ]
    },
    {
     "name": "stdout",
     "output_type": "stream",
     "text": [
      "1. Do you want of promotional items\n",
      "2. Do you want show all items are available\n"
     ]
    },
    {
     "name": "stdin",
     "output_type": "stream",
     "text": [
      "Please choose (1/2)? :  2\n"
     ]
    },
    {
     "name": "stdout",
     "output_type": "stream",
     "text": [
      "\n",
      "     item  harga\n",
      "0    susu  50000\n",
      "1  daging  20000\n",
      "2   lampu  15000\n",
      "3  masker  25000\n",
      "4    apel  30000\n",
      "\n"
     ]
    },
    {
     "name": "stdin",
     "output_type": "stream",
     "text": [
      "Please choose the item? :  susu\n",
      "Please choose the qty? :  3\n"
     ]
    },
    {
     "name": "stdout",
     "output_type": "stream",
     "text": [
      "50000\n",
      "Product found and the price of product  susu  is  50000\n",
      "\n",
      " --------------------------------------------------------\n",
      "|              Your purchased items                      |\n",
      " --------------------------------------------------------\n",
      "{'susu': 50000}\n",
      " --------------------------------------------------------\n",
      "Total price:  150000\n",
      "\n"
     ]
    },
    {
     "name": "stdin",
     "output_type": "stream",
     "text": [
      "More items (Y/N) :  y\n"
     ]
    },
    {
     "name": "stdout",
     "output_type": "stream",
     "text": [
      "\n",
      "     item  harga\n",
      "0    susu  50000\n",
      "1  daging  20000\n",
      "2   lampu  15000\n",
      "3  masker  25000\n",
      "4    apel  30000\n",
      "\n"
     ]
    },
    {
     "name": "stdin",
     "output_type": "stream",
     "text": [
      "Please choose the item? :  lampu\n",
      "Please choose the qty? :  3\n"
     ]
    },
    {
     "name": "stdout",
     "output_type": "stream",
     "text": [
      "15000\n",
      "Product found and the price of product  lampu  is  15000\n",
      "\n",
      " --------------------------------------------------------\n",
      "|              Your purchased items                      |\n",
      " --------------------------------------------------------\n",
      "{'susu': 50000, 'lampu': 15000}\n",
      " --------------------------------------------------------\n",
      "Total price:  195000\n",
      "\n"
     ]
    },
    {
     "name": "stdin",
     "output_type": "stream",
     "text": [
      "More items (Y/N) :  n\n",
      "Want to finish (Y/N) :  y\n"
     ]
    },
    {
     "name": "stdout",
     "output_type": "stream",
     "text": [
      " --------------------------------------------------------\n",
      "|                       THANK YOU                        |\n",
      " --------------------------------------------------------\n"
     ]
    }
   ],
   "source": [
    "import pandas as pd\n",
    "all_items = [ { 'item': \"susu\", 'harga': 50000 }, {'item': \"daging\", 'harga': 20000} , {'item': \"lampu\",\n",
    "'harga': 15000} , {'item': \"masker\", 'harga': 25000}, {'item': \"apel\", 'harga': 30000} ]\n",
    "promotional_items = [ { 'item': \"susu\", 'harga': 50000 }, {'item': \"masker\", 'harga': 25000} ]\n",
    "df_all = pd.DataFrame(all_items)\n",
    "df_promo = pd.DataFrame(promotional_items)\n",
    "\n",
    "# 1. Display greetings and show some promotional items and its price\n",
    "print(' --------------------------------------------------------')\n",
    "print('|                      SPECIAL OFFER                     |')\n",
    "print(' --------------------------------------------------------')\n",
    "print(df_promo)\n",
    "print('')\n",
    "\n",
    "# 2. Take the user input whether they want promotional items or show all items that are available\n",
    "# in the supermarket\n",
    "ch='n'\n",
    "while ch=='N' or ch=='n':\n",
    "    print('1. Do you want of promotional items')\n",
    "    print('2. Do you want show all items are available')\n",
    "    promo=input(\"Please choose (1/2)? : \")\n",
    "    \n",
    "    if promo == '1':\n",
    "        dict={}\n",
    "        chpromo='y'\n",
    "        tot_price=0\n",
    "        while chpromo=='y' or chpromo=='Y':\n",
    "            print('')\n",
    "            print(df_promo)\n",
    "            print('')\n",
    "            selectpromo=input(\"Please choose the item? : \")\n",
    "            qty=input(\"Please choose the qty? : \")\n",
    "            if selectpromo.lower() =='susu':\n",
    "                price_found = df_promo.iloc[0,1]\n",
    "            elif selectpromo.lower() =='masker':\n",
    "                price_found = df_promo.iloc[1,1]\n",
    "            print(price_found)\n",
    "            tot_price += (price_found*int(qty))\n",
    "            \n",
    "            print(\"Product found and the price of product \",selectpromo,\" is \",price_found)\n",
    "            dict[selectpromo]=price_found \n",
    "            #dict[selectpromo]=qty    \n",
    "            print('')\n",
    "            print(' --------------------------------------------------------')\n",
    "            print('|              Your purchased items                      |')\n",
    "            print(' --------------------------------------------------------')\n",
    "            print(dict)\n",
    "            print(' --------------------------------------------------------')\n",
    "            print('Total price: ',tot_price)\n",
    "            print('')\n",
    "            chpromo=input(\"More items (Y/N) : \")\n",
    "        \n",
    "        \n",
    "    elif promo == '2':\n",
    "        dict={}\n",
    "        chAll='y'\n",
    "        tot_price=0\n",
    "        while chAll=='y' or chAll=='Y':\n",
    "            print('')\n",
    "            print(df_all)\n",
    "            print('')\n",
    "            selectproduct=input(\"Please choose the item? : \")\n",
    "            qty=input(\"Please choose the qty? : \")\n",
    "            if selectproduct.lower() =='susu':\n",
    "                price_found = df_all.iloc[0,1]\n",
    "            elif selectproduct.lower() =='daging':\n",
    "                price_found = df_all.iloc[1,1]\n",
    "            elif selectproduct.lower() =='lampu':\n",
    "                price_found = df_all.iloc[2,1]\n",
    "            elif selectproduct.lower() =='masker':\n",
    "                price_found = df_all.iloc[3,1]\n",
    "            elif selectproduct.lower() =='apel':\n",
    "                price_found = df_all.iloc[4,1]\n",
    "            print(price_found)\n",
    "            tot_price += (price_found*int(qty))\n",
    "            print(\"Product found and the price of product \",selectproduct,\" is \",price_found)\n",
    "            dict[selectproduct]=price_found\n",
    "            print('')\n",
    "            print(' --------------------------------------------------------')\n",
    "            print('|              Your purchased items                      |')\n",
    "            print(' --------------------------------------------------------')\n",
    "            print(dict)\n",
    "            print(' --------------------------------------------------------')\n",
    "            print('Total price: ',tot_price)\n",
    "            print('')\n",
    "            chAll=input(\"More items (Y/N) : \")\n",
    "    \n",
    "    ch=input(\"Want to finish (Y/N) : \")\n",
    "print(' --------------------------------------------------------')\n",
    "print('|                       THANK YOU                        |')\n",
    "print(' --------------------------------------------------------')\n",
    "\n"
   ]
  },
  {
   "cell_type": "code",
   "execution_count": null,
   "metadata": {},
   "outputs": [],
   "source": []
  }
 ],
 "metadata": {
  "kernelspec": {
   "display_name": "Python 3",
   "language": "python",
   "name": "python3"
  },
  "language_info": {
   "codemirror_mode": {
    "name": "ipython",
    "version": 3
   },
   "file_extension": ".py",
   "mimetype": "text/x-python",
   "name": "python",
   "nbconvert_exporter": "python",
   "pygments_lexer": "ipython3",
   "version": "3.7.7"
  }
 },
 "nbformat": 4,
 "nbformat_minor": 4
}
